{
 "cells": [
  {
   "cell_type": "code",
   "execution_count": 161,
   "metadata": {},
   "outputs": [],
   "source": [
    "import pandas as pd\n",
    "import matplotlib.pyplot as plt\n",
    "import seaborn as sns"
   ]
  },
  {
   "cell_type": "code",
   "execution_count": 162,
   "metadata": {},
   "outputs": [
    {
     "data": {
      "text/html": [
       "<div>\n",
       "<style scoped>\n",
       "    .dataframe tbody tr th:only-of-type {\n",
       "        vertical-align: middle;\n",
       "    }\n",
       "\n",
       "    .dataframe tbody tr th {\n",
       "        vertical-align: top;\n",
       "    }\n",
       "\n",
       "    .dataframe thead th {\n",
       "        text-align: right;\n",
       "    }\n",
       "</style>\n",
       "<table border=\"1\" class=\"dataframe\">\n",
       "  <thead>\n",
       "    <tr style=\"text-align: right;\">\n",
       "      <th></th>\n",
       "      <th>Visit_Date</th>\n",
       "      <th>Patient_ID</th>\n",
       "      <th>Age</th>\n",
       "      <th>Gender</th>\n",
       "      <th>Diagnosis</th>\n",
       "      <th>Has_Insurance</th>\n",
       "      <th>Postcode</th>\n",
       "      <th>Total_Cost</th>\n",
       "      <th>Registration</th>\n",
       "      <th>Nursing</th>\n",
       "      <th>Laboratory</th>\n",
       "      <th>Consultation</th>\n",
       "      <th>Pharmacy</th>\n",
       "    </tr>\n",
       "  </thead>\n",
       "  <tbody>\n",
       "    <tr>\n",
       "      <th>0</th>\n",
       "      <td>2021-10-30</td>\n",
       "      <td>100001</td>\n",
       "      <td>59</td>\n",
       "      <td>Male</td>\n",
       "      <td>Diabetes</td>\n",
       "      <td>True</td>\n",
       "      <td>10003</td>\n",
       "      <td>570</td>\n",
       "      <td>90</td>\n",
       "      <td>79</td>\n",
       "      <td>100</td>\n",
       "      <td>15</td>\n",
       "      <td>32</td>\n",
       "    </tr>\n",
       "    <tr>\n",
       "      <th>1</th>\n",
       "      <td>2020-12-03</td>\n",
       "      <td>100002</td>\n",
       "      <td>14</td>\n",
       "      <td>Female</td>\n",
       "      <td>Diabetes</td>\n",
       "      <td>False</td>\n",
       "      <td>22005</td>\n",
       "      <td>1845</td>\n",
       "      <td>77</td>\n",
       "      <td>96</td>\n",
       "      <td>25</td>\n",
       "      <td>62</td>\n",
       "      <td>7</td>\n",
       "    </tr>\n",
       "  </tbody>\n",
       "</table>\n",
       "</div>"
      ],
      "text/plain": [
       "   Visit_Date  Patient_ID  Age  Gender Diagnosis  Has_Insurance  Postcode  \\\n",
       "0  2021-10-30      100001   59    Male  Diabetes           True     10003   \n",
       "1  2020-12-03      100002   14  Female  Diabetes          False     22005   \n",
       "\n",
       "   Total_Cost  Registration  Nursing  Laboratory  Consultation  Pharmacy  \n",
       "0         570            90       79         100            15        32  \n",
       "1        1845            77       96          25            62         7  "
      ]
     },
     "execution_count": 162,
     "metadata": {},
     "output_type": "execute_result"
    }
   ],
   "source": [
    "oupatient_df=pd.read_csv(r\"D:\\Portfolio\\Datasets\\Hospital Outpatient.csv\")\n",
    "oupatient_df.head(2)"
   ]
  },
  {
   "cell_type": "code",
   "execution_count": 163,
   "metadata": {},
   "outputs": [
    {
     "name": "stdout",
     "output_type": "stream",
     "text": [
      "<class 'pandas.core.frame.DataFrame'>\n",
      "RangeIndex: 1000000 entries, 0 to 999999\n",
      "Data columns (total 13 columns):\n",
      " #   Column         Non-Null Count    Dtype \n",
      "---  ------         --------------    ----- \n",
      " 0   Visit_Date     1000000 non-null  object\n",
      " 1   Patient_ID     1000000 non-null  int64 \n",
      " 2   Age            1000000 non-null  int64 \n",
      " 3   Gender         1000000 non-null  object\n",
      " 4   Diagnosis      1000000 non-null  object\n",
      " 5   Has_Insurance  1000000 non-null  bool  \n",
      " 6   Postcode       1000000 non-null  int64 \n",
      " 7   Total_Cost     1000000 non-null  int64 \n",
      " 8   Registration   1000000 non-null  int64 \n",
      " 9   Nursing        1000000 non-null  int64 \n",
      " 10  Laboratory     1000000 non-null  int64 \n",
      " 11  Consultation   1000000 non-null  int64 \n",
      " 12  Pharmacy       1000000 non-null  int64 \n",
      "dtypes: bool(1), int64(9), object(3)\n",
      "memory usage: 92.5+ MB\n"
     ]
    }
   ],
   "source": [
    "oupatient_df.info()"
   ]
  },
  {
   "cell_type": "code",
   "execution_count": 164,
   "metadata": {},
   "outputs": [
    {
     "data": {
      "text/plain": [
       "Visit_Date       0\n",
       "Patient_ID       0\n",
       "Age              0\n",
       "Gender           0\n",
       "Diagnosis        0\n",
       "Has_Insurance    0\n",
       "Postcode         0\n",
       "Total_Cost       0\n",
       "Registration     0\n",
       "Nursing          0\n",
       "Laboratory       0\n",
       "Consultation     0\n",
       "Pharmacy         0\n",
       "dtype: int64"
      ]
     },
     "execution_count": 164,
     "metadata": {},
     "output_type": "execute_result"
    }
   ],
   "source": [
    "#Checking for null values\n",
    "oupatient_df.isna().sum()"
   ]
  },
  {
   "cell_type": "markdown",
   "metadata": {},
   "source": [
    "There are no null values in this dataset as the values for each column is 0."
   ]
  },
  {
   "cell_type": "code",
   "execution_count": 165,
   "metadata": {},
   "outputs": [
    {
     "name": "stdout",
     "output_type": "stream",
     "text": [
      "<class 'pandas.core.frame.DataFrame'>\n",
      "RangeIndex: 1000000 entries, 0 to 999999\n",
      "Data columns (total 13 columns):\n",
      " #   Column         Non-Null Count    Dtype \n",
      "---  ------         --------------    ----- \n",
      " 0   Visit_Date     1000000 non-null  object\n",
      " 1   Patient_ID     1000000 non-null  int64 \n",
      " 2   Age            1000000 non-null  int64 \n",
      " 3   Gender         1000000 non-null  object\n",
      " 4   Diagnosis      1000000 non-null  object\n",
      " 5   Has_Insurance  1000000 non-null  bool  \n",
      " 6   Postcode       1000000 non-null  int64 \n",
      " 7   Total_Cost     1000000 non-null  int64 \n",
      " 8   Registration   1000000 non-null  int64 \n",
      " 9   Nursing        1000000 non-null  int64 \n",
      " 10  Laboratory     1000000 non-null  int64 \n",
      " 11  Consultation   1000000 non-null  int64 \n",
      " 12  Pharmacy       1000000 non-null  int64 \n",
      "dtypes: bool(1), int64(9), object(3)\n",
      "memory usage: 92.5+ MB\n"
     ]
    }
   ],
   "source": [
    "#Another way to check for na values.\n",
    "oupatient_df.dropna()\n",
    "oupatient_df.info()"
   ]
  },
  {
   "cell_type": "markdown",
   "metadata": {},
   "source": [
    "This again shows that even after removing na values the total number of Non-null count for each column remains the same as in the original dataframe. Hence, there are no null values."
   ]
  },
  {
   "cell_type": "code",
   "execution_count": 166,
   "metadata": {},
   "outputs": [],
   "source": [
    "# Renaming columns to make more sense of the data (i.e indicating that the meaning of columns 'Registration','Nursing','Laboratory','Consultation','Pharmacy' is the waiting time in respective section in minutes)\n",
    "columns_mapping={'Registration':'Registration_Minutes','Nursing':'Nursing_Minutes','Laboratory':'Laboratory_Minutes','Consultation':'Consultation_Minutes','Pharmacy':'Pharmacy_Minutes'}\n",
    "oupatient_df.rename(columns=columns_mapping,inplace=True)"
   ]
  },
  {
   "cell_type": "code",
   "execution_count": 167,
   "metadata": {},
   "outputs": [
    {
     "name": "stdout",
     "output_type": "stream",
     "text": [
      "<class 'pandas.core.frame.DataFrame'>\n",
      "RangeIndex: 1000000 entries, 0 to 999999\n",
      "Data columns (total 13 columns):\n",
      " #   Column                Non-Null Count    Dtype \n",
      "---  ------                --------------    ----- \n",
      " 0   Visit_Date            1000000 non-null  object\n",
      " 1   Patient_ID            1000000 non-null  int64 \n",
      " 2   Age                   1000000 non-null  int64 \n",
      " 3   Gender                1000000 non-null  object\n",
      " 4   Diagnosis             1000000 non-null  object\n",
      " 5   Has_Insurance         1000000 non-null  bool  \n",
      " 6   Postcode              1000000 non-null  int64 \n",
      " 7   Total_Cost            1000000 non-null  int64 \n",
      " 8   Registration_Minutes  1000000 non-null  int64 \n",
      " 9   Nursing_Minutes       1000000 non-null  int64 \n",
      " 10  Laboratory_Minutes    1000000 non-null  int64 \n",
      " 11  Consultation_Minutes  1000000 non-null  int64 \n",
      " 12  Pharmacy_Minutes      1000000 non-null  int64 \n",
      "dtypes: bool(1), int64(9), object(3)\n",
      "memory usage: 92.5+ MB\n"
     ]
    }
   ],
   "source": [
    "#The dataframe with renamed columns\n",
    "oupatient_df.info()"
   ]
  },
  {
   "cell_type": "markdown",
   "metadata": {},
   "source": [
    "# Saving Cleaned data frame"
   ]
  },
  {
   "cell_type": "code",
   "execution_count": 168,
   "metadata": {},
   "outputs": [
    {
     "data": {
      "text/html": [
       "<div>\n",
       "<style scoped>\n",
       "    .dataframe tbody tr th:only-of-type {\n",
       "        vertical-align: middle;\n",
       "    }\n",
       "\n",
       "    .dataframe tbody tr th {\n",
       "        vertical-align: top;\n",
       "    }\n",
       "\n",
       "    .dataframe thead th {\n",
       "        text-align: right;\n",
       "    }\n",
       "</style>\n",
       "<table border=\"1\" class=\"dataframe\">\n",
       "  <thead>\n",
       "    <tr style=\"text-align: right;\">\n",
       "      <th></th>\n",
       "      <th>Visit_Date</th>\n",
       "      <th>Patient_ID</th>\n",
       "      <th>Age</th>\n",
       "      <th>Gender</th>\n",
       "      <th>Diagnosis</th>\n",
       "      <th>Has_Insurance</th>\n",
       "      <th>Postcode</th>\n",
       "      <th>Total_Cost</th>\n",
       "      <th>Registration_Minutes</th>\n",
       "      <th>Nursing_Minutes</th>\n",
       "      <th>Laboratory_Minutes</th>\n",
       "      <th>Consultation_Minutes</th>\n",
       "      <th>Pharmacy_Minutes</th>\n",
       "    </tr>\n",
       "  </thead>\n",
       "  <tbody>\n",
       "    <tr>\n",
       "      <th>0</th>\n",
       "      <td>2021-10-30</td>\n",
       "      <td>100001</td>\n",
       "      <td>59</td>\n",
       "      <td>Male</td>\n",
       "      <td>Diabetes</td>\n",
       "      <td>True</td>\n",
       "      <td>10003</td>\n",
       "      <td>570</td>\n",
       "      <td>90</td>\n",
       "      <td>79</td>\n",
       "      <td>100</td>\n",
       "      <td>15</td>\n",
       "      <td>32</td>\n",
       "    </tr>\n",
       "    <tr>\n",
       "      <th>1</th>\n",
       "      <td>2020-12-03</td>\n",
       "      <td>100002</td>\n",
       "      <td>14</td>\n",
       "      <td>Female</td>\n",
       "      <td>Diabetes</td>\n",
       "      <td>False</td>\n",
       "      <td>22005</td>\n",
       "      <td>1845</td>\n",
       "      <td>77</td>\n",
       "      <td>96</td>\n",
       "      <td>25</td>\n",
       "      <td>62</td>\n",
       "      <td>7</td>\n",
       "    </tr>\n",
       "  </tbody>\n",
       "</table>\n",
       "</div>"
      ],
      "text/plain": [
       "   Visit_Date  Patient_ID  Age  Gender Diagnosis  Has_Insurance  Postcode  \\\n",
       "0  2021-10-30      100001   59    Male  Diabetes           True     10003   \n",
       "1  2020-12-03      100002   14  Female  Diabetes          False     22005   \n",
       "\n",
       "   Total_Cost  Registration_Minutes  Nursing_Minutes  Laboratory_Minutes  \\\n",
       "0         570                    90               79                 100   \n",
       "1        1845                    77               96                  25   \n",
       "\n",
       "   Consultation_Minutes  Pharmacy_Minutes  \n",
       "0                    15                32  \n",
       "1                    62                 7  "
      ]
     },
     "execution_count": 168,
     "metadata": {},
     "output_type": "execute_result"
    }
   ],
   "source": [
    "oupatient_df.to_csv(r\"D:\\Portfolio\\Datasets\\Hospital Outpatient-Cleaned.csv\",index=False)\n",
    "oupatient_df_cleaned=pd.read_csv(r\"D:\\Portfolio\\Datasets\\Hospital Outpatient-Cleaned.csv\")\n",
    "oupatient_df_cleaned.head(2)"
   ]
  },
  {
   "cell_type": "markdown",
   "metadata": {},
   "source": [
    "# Demography Analysis of the patient visit"
   ]
  },
  {
   "cell_type": "code",
   "execution_count": 169,
   "metadata": {},
   "outputs": [
    {
     "data": {
      "text/plain": [
       "Male      557059\n",
       "Female    442941\n",
       "Name: Gender, dtype: int64"
      ]
     },
     "execution_count": 169,
     "metadata": {},
     "output_type": "execute_result"
    }
   ],
   "source": [
    "oupatient_df_cleaned['Gender'].value_counts()"
   ]
  },
  {
   "cell_type": "code",
   "execution_count": 170,
   "metadata": {},
   "outputs": [
    {
     "data": {
      "image/png": "[encoded data removed]",
      "text/plain": [
       "<Figure size 432x288 with 1 Axes>"
      ]
     },
     "metadata": {
      "needs_background": "light"
     },
     "output_type": "display_data"
    }
   ],
   "source": [
    "oupatient_df_cleaned['Gender'].value_counts().plot(kind='bar',color=['black','blue'])\n",
    "plt.title('Patient Visit Gender-Distribution')\n",
    "plt.xlabel('Gender')\n",
    "plt.ylabel('Count')\n",
    "plt.show()"
   ]
  },
  {
   "cell_type": "markdown",
   "metadata": {},
   "source": [
    "There are more Male patients as compared to Female"
   ]
  },
  {
   "cell_type": "code",
   "execution_count": 171,
   "metadata": {},
   "outputs": [
    {
     "data": {
      "text/plain": [
       "97"
      ]
     },
     "execution_count": 171,
     "metadata": {},
     "output_type": "execute_result"
    }
   ],
   "source": [
    "oupatient_df_cleaned['Age'].max()"
   ]
  },
  {
   "cell_type": "markdown",
   "metadata": {},
   "source": [
    "The oldest patient is 97 Years old"
   ]
  },
  {
   "cell_type": "code",
   "execution_count": 172,
   "metadata": {},
   "outputs": [
    {
     "data": {
      "text/plain": [
       "0"
      ]
     },
     "execution_count": 172,
     "metadata": {},
     "output_type": "execute_result"
    }
   ],
   "source": [
    "oupatient_df_cleaned['Age'].min()"
   ]
  },
  {
   "cell_type": "markdown",
   "metadata": {},
   "source": [
    "The youngest patient is 0 years old. i.e. they are only few days or few months old. (the data is not granular enough to get the exact age of the patient)"
   ]
  },
  {
   "cell_type": "code",
   "execution_count": 173,
   "metadata": {},
   "outputs": [
    {
     "data": {
      "text/html": [
       "<div>\n",
       "<style scoped>\n",
       "    .dataframe tbody tr th:only-of-type {\n",
       "        vertical-align: middle;\n",
       "    }\n",
       "\n",
       "    .dataframe tbody tr th {\n",
       "        vertical-align: top;\n",
       "    }\n",
       "\n",
       "    .dataframe thead th {\n",
       "        text-align: right;\n",
       "    }\n",
       "</style>\n",
       "<table border=\"1\" class=\"dataframe\">\n",
       "  <thead>\n",
       "    <tr style=\"text-align: right;\">\n",
       "      <th></th>\n",
       "      <th>Visit_Date</th>\n",
       "      <th>Patient_ID</th>\n",
       "      <th>Age</th>\n",
       "      <th>Gender</th>\n",
       "      <th>Diagnosis</th>\n",
       "      <th>Has_Insurance</th>\n",
       "      <th>Postcode</th>\n",
       "      <th>Total_Cost</th>\n",
       "      <th>Registration_Minutes</th>\n",
       "      <th>Nursing_Minutes</th>\n",
       "      <th>Laboratory_Minutes</th>\n",
       "      <th>Consultation_Minutes</th>\n",
       "      <th>Pharmacy_Minutes</th>\n",
       "      <th>Age_Range</th>\n",
       "    </tr>\n",
       "  </thead>\n",
       "  <tbody>\n",
       "    <tr>\n",
       "      <th>0</th>\n",
       "      <td>2021-10-30</td>\n",
       "      <td>100001</td>\n",
       "      <td>59</td>\n",
       "      <td>Male</td>\n",
       "      <td>Diabetes</td>\n",
       "      <td>True</td>\n",
       "      <td>10003</td>\n",
       "      <td>570</td>\n",
       "      <td>90</td>\n",
       "      <td>79</td>\n",
       "      <td>100</td>\n",
       "      <td>15</td>\n",
       "      <td>32</td>\n",
       "      <td>(50, 60]</td>\n",
       "    </tr>\n",
       "    <tr>\n",
       "      <th>1</th>\n",
       "      <td>2020-12-03</td>\n",
       "      <td>100002</td>\n",
       "      <td>14</td>\n",
       "      <td>Female</td>\n",
       "      <td>Diabetes</td>\n",
       "      <td>False</td>\n",
       "      <td>22005</td>\n",
       "      <td>1845</td>\n",
       "      <td>77</td>\n",
       "      <td>96</td>\n",
       "      <td>25</td>\n",
       "      <td>62</td>\n",
       "      <td>7</td>\n",
       "      <td>(10, 20]</td>\n",
       "    </tr>\n",
       "  </tbody>\n",
       "</table>\n",
       "</div>"
      ],
      "text/plain": [
       "   Visit_Date  Patient_ID  Age  Gender Diagnosis  Has_Insurance  Postcode  \\\n",
       "0  2021-10-30      100001   59    Male  Diabetes           True     10003   \n",
       "1  2020-12-03      100002   14  Female  Diabetes          False     22005   \n",
       "\n",
       "   Total_Cost  Registration_Minutes  Nursing_Minutes  Laboratory_Minutes  \\\n",
       "0         570                    90               79                 100   \n",
       "1        1845                    77               96                  25   \n",
       "\n",
       "   Consultation_Minutes  Pharmacy_Minutes Age_Range  \n",
       "0                    15                32  (50, 60]  \n",
       "1                    62                 7  (10, 20]  "
      ]
     },
     "execution_count": 173,
     "metadata": {},
     "output_type": "execute_result"
    }
   ],
   "source": [
    "age_bins=[0,10,20,30,40,50,60,70,80,90,100]\n",
    "oupatient_df_cleaned['Age_Range']=pd.cut(oupatient_df_cleaned['Age'],bins=age_bins)\n",
    "oupatient_df_cleaned.head(2)"
   ]
  },
  {
   "cell_type": "markdown",
   "metadata": {},
   "source": [
    "Below is the Age distribution of Visits:-"
   ]
  },
  {
   "cell_type": "code",
   "execution_count": 174,
   "metadata": {},
   "outputs": [
    {
     "name": "stdout",
     "output_type": "stream",
     "text": [
      "(90, 100]     46223\n",
      "(20, 30]      47763\n",
      "(80, 90]      88337\n",
      "(60, 70]      90781\n",
      "(70, 80]      90833\n",
      "(30, 40]     104837\n",
      "(40, 50]     119744\n",
      "(10, 20]     122591\n",
      "(0, 10]      131493\n",
      "(50, 60]     144168\n",
      "Name: Age_Range, dtype: int64\n"
     ]
    },
    {
     "data": {
      "image/png": "[encoded data removed]",
      "text/plain": [
       "<Figure size 432x288 with 1 Axes>"
      ]
     },
     "metadata": {
      "needs_background": "light"
     },
     "output_type": "display_data"
    }
   ],
   "source": [
    "visit_age=oupatient_df_cleaned['Age_Range'].value_counts().sort_index()\n",
    "print(visit_age.sort_values())\n",
    "visit_age.plot(kind='bar',edgecolor='black')\n",
    "plt.title('Age-Distribution of Visits')\n",
    "plt.xlabel('Age-Range')\n",
    "plt.ylabel('Count')\n",
    "plt.show()"
   ]
  },
  {
   "cell_type": "markdown",
   "metadata": {},
   "source": [
    "It can be observed that the most number of patients are from age group 50-60 Years old and the least number of patients are from 90-100 years old. This can be due to the fact that the number of people in the population who are 90-100 years old are less. The second lowest number of patients visiting the hospital are from the age group 20-30 years old. This can be due to the fact that people is their 20s are usually the healthiest."
   ]
  },
  {
   "cell_type": "markdown",
   "metadata": {},
   "source": [
    "Below is the postal Code distribution:-"
   ]
  },
  {
   "cell_type": "code",
   "execution_count": 175,
   "metadata": {},
   "outputs": [
    {
     "name": "stdout",
     "output_type": "stream",
     "text": [
      "20501    139959\n",
      "10325    130415\n",
      "19579     50175\n",
      "12590     50159\n",
      "14569     50114\n",
      "12356     50003\n",
      "14589     49966\n",
      "13256     49939\n",
      "15239     49899\n",
      "18923     49879\n",
      "15237     49869\n",
      "19599     49775\n",
      "12035     49727\n",
      "10002     30452\n",
      "22089     30146\n",
      "10125     29995\n",
      "10003     29954\n",
      "10001     29873\n",
      "22005     29701\n",
      "Name: Postcode, dtype: int64\n"
     ]
    },
    {
     "data": {
      "image/png": "[encoded data removed]",
      "text/plain": [
       "<Figure size 432x288 with 1 Axes>"
      ]
     },
     "metadata": {
      "needs_background": "light"
     },
     "output_type": "display_data"
    }
   ],
   "source": [
    "postalcode_counts=oupatient_df_cleaned['Postcode'].value_counts()\n",
    "print(postalcode_counts)\n",
    "postalcode_counts.plot(kind='bar')\n",
    "plt.title('postal code-Distribution of patients visiting')\n",
    "plt.xlabel('postal code')\n",
    "plt.ylabel('Count')\n",
    "plt.show()"
   ]
  },
  {
   "cell_type": "markdown",
   "metadata": {},
   "source": [
    "It is clear from the above plot that the patients from some postal area code visits the hospital more. This can be due to the fact that the hospital is closer to those are codes or the people from those are codes tend to need medical care more."
   ]
  },
  {
   "cell_type": "markdown",
   "metadata": {},
   "source": [
    "Below is the Age-Gender Distribution:-"
   ]
  },
  {
   "cell_type": "code",
   "execution_count": 176,
   "metadata": {},
   "outputs": [
    {
     "data": {
      "image/png": "[encoded data removed]",
      "text/plain": [
       "<Figure size 720x720 with 1 Axes>"
      ]
     },
     "metadata": {
      "needs_background": "light"
     },
     "output_type": "display_data"
    }
   ],
   "source": [
    "plt.figure(figsize=(10,10))\n",
    "plt.hist([oupatient_df_cleaned[oupatient_df_cleaned['Gender']=='Male']['Age'],oupatient_df_cleaned[oupatient_df_cleaned['Gender']=='Female']['Age']],bins=20,label=['Male','Female'])\n",
    "plt.title('Age-Gender Distribution')\n",
    "plt.xlabel('Age')\n",
    "plt.ylabel('Frequency')\n",
    "plt.legend()\n",
    "plt.show()"
   ]
  },
  {
   "cell_type": "markdown",
   "metadata": {},
   "source": [
    "Below is the Diagnosis Distribution:-"
   ]
  },
  {
   "cell_type": "code",
   "execution_count": 177,
   "metadata": {},
   "outputs": [
    {
     "name": "stdout",
     "output_type": "stream",
     "text": [
      "Abdominal Pain              50065\n",
      "Back Pain                   99858\n",
      "Ear Infection              100203\n",
      "Viral Infection            149607\n",
      "Urinary Tract Infection    150453\n",
      "Malaria                    199712\n",
      "Diabetes                   250102\n",
      "Name: Diagnosis, dtype: int64\n"
     ]
    },
    {
     "data": {
      "image/png": "[encoded data removed]",
      "text/plain": [
       "<Figure size 432x288 with 1 Axes>"
      ]
     },
     "metadata": {
      "needs_background": "light"
     },
     "output_type": "display_data"
    }
   ],
   "source": [
    "diagnosis=oupatient_df_cleaned['Diagnosis'].value_counts().sort_values()\n",
    "print(diagnosis)\n",
    "diagnosis.plot(kind='bar',edgecolor='black')\n",
    "plt.title('Diagnosis Count')\n",
    "plt.xlabel('Diagnosis')\n",
    "plt.ylabel('Count')\n",
    "plt.show()"
   ]
  },
  {
   "cell_type": "markdown",
   "metadata": {},
   "source": [
    "It can be observed that 250102  patients were diagonised with Diabetes, and about 50065 patients visited the hospital due to Abdominal Pain."
   ]
  },
  {
   "cell_type": "markdown",
   "metadata": {},
   "source": [
    "# Trend Analysis of Patient Visit"
   ]
  },
  {
   "cell_type": "code",
   "execution_count": 178,
   "metadata": {},
   "outputs": [
    {
     "data": {
      "text/plain": [
       "str"
      ]
     },
     "execution_count": 178,
     "metadata": {},
     "output_type": "execute_result"
    }
   ],
   "source": [
    "type(oupatient_df_cleaned['Visit_Date'][0])"
   ]
  },
  {
   "cell_type": "code",
   "execution_count": 179,
   "metadata": {},
   "outputs": [
    {
     "data": {
      "text/plain": [
       "pandas._libs.tslibs.timestamps.Timestamp"
      ]
     },
     "execution_count": 179,
     "metadata": {},
     "output_type": "execute_result"
    }
   ],
   "source": [
    "#Converting \"Visit_Date\" Column to Date Data type\n",
    "oupatient_df_cleaned['Visit_Date']=pd.to_datetime(oupatient_df_cleaned['Visit_Date'])\n",
    "type(oupatient_df_cleaned['Visit_Date'][0])"
   ]
  },
  {
   "cell_type": "code",
   "execution_count": 180,
   "metadata": {},
   "outputs": [],
   "source": [
    "#Setting date as index\n",
    "oupatient_df_cleaned.set_index('Visit_Date',inplace=True)"
   ]
  },
  {
   "cell_type": "code",
   "execution_count": 181,
   "metadata": {},
   "outputs": [
    {
     "data": {
      "text/html": [
       "<div>\n",
       "<style scoped>\n",
       "    .dataframe tbody tr th:only-of-type {\n",
       "        vertical-align: middle;\n",
       "    }\n",
       "\n",
       "    .dataframe tbody tr th {\n",
       "        vertical-align: top;\n",
       "    }\n",
       "\n",
       "    .dataframe thead th {\n",
       "        text-align: right;\n",
       "    }\n",
       "</style>\n",
       "<table border=\"1\" class=\"dataframe\">\n",
       "  <thead>\n",
       "    <tr style=\"text-align: right;\">\n",
       "      <th></th>\n",
       "      <th>Patient_ID</th>\n",
       "      <th>Age</th>\n",
       "      <th>Gender</th>\n",
       "      <th>Diagnosis</th>\n",
       "      <th>Has_Insurance</th>\n",
       "      <th>Postcode</th>\n",
       "      <th>Total_Cost</th>\n",
       "      <th>Registration_Minutes</th>\n",
       "      <th>Nursing_Minutes</th>\n",
       "      <th>Laboratory_Minutes</th>\n",
       "      <th>Consultation_Minutes</th>\n",
       "      <th>Pharmacy_Minutes</th>\n",
       "      <th>Age_Range</th>\n",
       "    </tr>\n",
       "    <tr>\n",
       "      <th>Visit_Date</th>\n",
       "      <th></th>\n",
       "      <th></th>\n",
       "      <th></th>\n",
       "      <th></th>\n",
       "      <th></th>\n",
       "      <th></th>\n",
       "      <th></th>\n",
       "      <th></th>\n",
       "      <th></th>\n",
       "      <th></th>\n",
       "      <th></th>\n",
       "      <th></th>\n",
       "      <th></th>\n",
       "    </tr>\n",
       "  </thead>\n",
       "  <tbody>\n",
       "    <tr>\n",
       "      <th>2021-10-30</th>\n",
       "      <td>100001</td>\n",
       "      <td>59</td>\n",
       "      <td>Male</td>\n",
       "      <td>Diabetes</td>\n",
       "      <td>True</td>\n",
       "      <td>10003</td>\n",
       "      <td>570</td>\n",
       "      <td>90</td>\n",
       "      <td>79</td>\n",
       "      <td>100</td>\n",
       "      <td>15</td>\n",
       "      <td>32</td>\n",
       "      <td>(50, 60]</td>\n",
       "    </tr>\n",
       "    <tr>\n",
       "      <th>2020-12-03</th>\n",
       "      <td>100002</td>\n",
       "      <td>14</td>\n",
       "      <td>Female</td>\n",
       "      <td>Diabetes</td>\n",
       "      <td>False</td>\n",
       "      <td>22005</td>\n",
       "      <td>1845</td>\n",
       "      <td>77</td>\n",
       "      <td>96</td>\n",
       "      <td>25</td>\n",
       "      <td>62</td>\n",
       "      <td>7</td>\n",
       "      <td>(10, 20]</td>\n",
       "    </tr>\n",
       "    <tr>\n",
       "      <th>2024-06-09</th>\n",
       "      <td>100003</td>\n",
       "      <td>86</td>\n",
       "      <td>Male</td>\n",
       "      <td>Viral Infection</td>\n",
       "      <td>True</td>\n",
       "      <td>10325</td>\n",
       "      <td>1965</td>\n",
       "      <td>71</td>\n",
       "      <td>58</td>\n",
       "      <td>119</td>\n",
       "      <td>63</td>\n",
       "      <td>42</td>\n",
       "      <td>(80, 90]</td>\n",
       "    </tr>\n",
       "    <tr>\n",
       "      <th>2023-09-22</th>\n",
       "      <td>100004</td>\n",
       "      <td>18</td>\n",
       "      <td>Female</td>\n",
       "      <td>Urinary Tract Infection</td>\n",
       "      <td>False</td>\n",
       "      <td>10325</td>\n",
       "      <td>2171</td>\n",
       "      <td>88</td>\n",
       "      <td>88</td>\n",
       "      <td>90</td>\n",
       "      <td>12</td>\n",
       "      <td>8</td>\n",
       "      <td>(10, 20]</td>\n",
       "    </tr>\n",
       "    <tr>\n",
       "      <th>2023-07-13</th>\n",
       "      <td>100005</td>\n",
       "      <td>68</td>\n",
       "      <td>Female</td>\n",
       "      <td>Ear Infection</td>\n",
       "      <td>True</td>\n",
       "      <td>15237</td>\n",
       "      <td>818</td>\n",
       "      <td>94</td>\n",
       "      <td>88</td>\n",
       "      <td>84</td>\n",
       "      <td>26</td>\n",
       "      <td>31</td>\n",
       "      <td>(60, 70]</td>\n",
       "    </tr>\n",
       "  </tbody>\n",
       "</table>\n",
       "</div>"
      ],
      "text/plain": [
       "            Patient_ID  Age  Gender                Diagnosis  Has_Insurance  \\\n",
       "Visit_Date                                                                    \n",
       "2021-10-30      100001   59    Male                 Diabetes           True   \n",
       "2020-12-03      100002   14  Female                 Diabetes          False   \n",
       "2024-06-09      100003   86    Male          Viral Infection           True   \n",
       "2023-09-22      100004   18  Female  Urinary Tract Infection          False   \n",
       "2023-07-13      100005   68  Female            Ear Infection           True   \n",
       "\n",
       "            Postcode  Total_Cost  Registration_Minutes  Nursing_Minutes  \\\n",
       "Visit_Date                                                                \n",
       "2021-10-30     10003         570                    90               79   \n",
       "2020-12-03     22005        1845                    77               96   \n",
       "2024-06-09     10325        1965                    71               58   \n",
       "2023-09-22     10325        2171                    88               88   \n",
       "2023-07-13     15237         818                    94               88   \n",
       "\n",
       "            Laboratory_Minutes  Consultation_Minutes  Pharmacy_Minutes  \\\n",
       "Visit_Date                                                               \n",
       "2021-10-30                 100                    15                32   \n",
       "2020-12-03                  25                    62                 7   \n",
       "2024-06-09                 119                    63                42   \n",
       "2023-09-22                  90                    12                 8   \n",
       "2023-07-13                  84                    26                31   \n",
       "\n",
       "           Age_Range  \n",
       "Visit_Date            \n",
       "2021-10-30  (50, 60]  \n",
       "2020-12-03  (10, 20]  \n",
       "2024-06-09  (80, 90]  \n",
       "2023-09-22  (10, 20]  \n",
       "2023-07-13  (60, 70]  "
      ]
     },
     "execution_count": 181,
     "metadata": {},
     "output_type": "execute_result"
    }
   ],
   "source": [
    "oupatient_df_cleaned.head()"
   ]
  },
  {
   "cell_type": "code",
   "execution_count": 182,
   "metadata": {},
   "outputs": [
    {
     "data": {
      "image/png": "[encoded data removed]",
      "text/plain": [
       "<Figure size 1440x360 with 1 Axes>"
      ]
     },
     "metadata": {
      "needs_background": "light"
     },
     "output_type": "display_data"
    }
   ],
   "source": [
    "#Monthly visists\n",
    "oupatient_df_cleaned_resampled=oupatient_df_cleaned.resample(\"M\").count()\n",
    "monthly_ticks=pd.date_range(start=oupatient_df_cleaned_resampled.index.min(),end=oupatient_df_cleaned_resampled.index.max(),freq=\"M\")\n",
    "monthly_labels=[date.strftime('%b%Y') for date in monthly_ticks]\n",
    "plt.figure(figsize=(20,5))\n",
    "plt.plot(oupatient_df_cleaned_resampled.index,oupatient_df_cleaned_resampled['Patient_ID'])\n",
    "plt.title(\"Monthly trend of Patient Visits\")\n",
    "plt.xticks(monthly_ticks,monthly_labels, rotation=90)\n",
    "plt.xlabel(\"Date\")\n",
    "plt.ylabel(\"Number of Visits\")\n",
    "plt.grid()\n",
    "plt.show()"
   ]
  },
  {
   "cell_type": "markdown",
   "metadata": {},
   "source": [
    "It is apparent from the above plot that the number of patients visiting the hospital tends to remain low during the month of FEBRUARY throughou the past 5 years."
   ]
  },
  {
   "cell_type": "code",
   "execution_count": 183,
   "metadata": {},
   "outputs": [
    {
     "data": {
      "image/png": "[encoded data removed]",
      "text/plain": [
       "<Figure size 720x360 with 1 Axes>"
      ]
     },
     "metadata": {
      "needs_background": "light"
     },
     "output_type": "display_data"
    }
   ],
   "source": [
    "#Febraury Month patient visits in the past 5 years\n",
    "target_month = 2\n",
    "oupatient_df_target_month=oupatient_df_cleaned_resampled[oupatient_df_cleaned_resampled.index.month == target_month]\n",
    "plt.figure(figsize=(10,5))\n",
    "plt.scatter(oupatient_df_target_month.index,oupatient_df_target_month['Patient_ID'])\n",
    "plt.title(\"February Months trend of Patient Visits\")\n",
    "plt.xlabel(\"Date\")\n",
    "plt.ylabel(\"Number of Visits\")\n",
    "plt.grid()\n",
    "plt.show()"
   ]
  },
  {
   "cell_type": "markdown",
   "metadata": {},
   "source": [
    "# Wait Time Analysis"
   ]
  },
  {
   "cell_type": "code",
   "execution_count": 184,
   "metadata": {},
   "outputs": [
    {
     "data": {
      "text/html": [
       "<div>\n",
       "<style scoped>\n",
       "    .dataframe tbody tr th:only-of-type {\n",
       "        vertical-align: middle;\n",
       "    }\n",
       "\n",
       "    .dataframe tbody tr th {\n",
       "        vertical-align: top;\n",
       "    }\n",
       "\n",
       "    .dataframe thead th {\n",
       "        text-align: right;\n",
       "    }\n",
       "</style>\n",
       "<table border=\"1\" class=\"dataframe\">\n",
       "  <thead>\n",
       "    <tr style=\"text-align: right;\">\n",
       "      <th></th>\n",
       "      <th>Patient_ID</th>\n",
       "      <th>Age</th>\n",
       "      <th>Gender</th>\n",
       "      <th>Diagnosis</th>\n",
       "      <th>Has_Insurance</th>\n",
       "      <th>Postcode</th>\n",
       "      <th>Total_Cost</th>\n",
       "      <th>Registration_Minutes</th>\n",
       "      <th>Nursing_Minutes</th>\n",
       "      <th>Laboratory_Minutes</th>\n",
       "      <th>Consultation_Minutes</th>\n",
       "      <th>Pharmacy_Minutes</th>\n",
       "      <th>Age_Range</th>\n",
       "      <th>Total_Wait_Time_Minutes</th>\n",
       "    </tr>\n",
       "    <tr>\n",
       "      <th>Visit_Date</th>\n",
       "      <th></th>\n",
       "      <th></th>\n",
       "      <th></th>\n",
       "      <th></th>\n",
       "      <th></th>\n",
       "      <th></th>\n",
       "      <th></th>\n",
       "      <th></th>\n",
       "      <th></th>\n",
       "      <th></th>\n",
       "      <th></th>\n",
       "      <th></th>\n",
       "      <th></th>\n",
       "      <th></th>\n",
       "    </tr>\n",
       "  </thead>\n",
       "  <tbody>\n",
       "    <tr>\n",
       "      <th>2021-10-30</th>\n",
       "      <td>100001</td>\n",
       "      <td>59</td>\n",
       "      <td>Male</td>\n",
       "      <td>Diabetes</td>\n",
       "      <td>True</td>\n",
       "      <td>10003</td>\n",
       "      <td>570</td>\n",
       "      <td>90</td>\n",
       "      <td>79</td>\n",
       "      <td>100</td>\n",
       "      <td>15</td>\n",
       "      <td>32</td>\n",
       "      <td>(50, 60]</td>\n",
       "      <td>316</td>\n",
       "    </tr>\n",
       "    <tr>\n",
       "      <th>2020-12-03</th>\n",
       "      <td>100002</td>\n",
       "      <td>14</td>\n",
       "      <td>Female</td>\n",
       "      <td>Diabetes</td>\n",
       "      <td>False</td>\n",
       "      <td>22005</td>\n",
       "      <td>1845</td>\n",
       "      <td>77</td>\n",
       "      <td>96</td>\n",
       "      <td>25</td>\n",
       "      <td>62</td>\n",
       "      <td>7</td>\n",
       "      <td>(10, 20]</td>\n",
       "      <td>267</td>\n",
       "    </tr>\n",
       "    <tr>\n",
       "      <th>2024-06-09</th>\n",
       "      <td>100003</td>\n",
       "      <td>86</td>\n",
       "      <td>Male</td>\n",
       "      <td>Viral Infection</td>\n",
       "      <td>True</td>\n",
       "      <td>10325</td>\n",
       "      <td>1965</td>\n",
       "      <td>71</td>\n",
       "      <td>58</td>\n",
       "      <td>119</td>\n",
       "      <td>63</td>\n",
       "      <td>42</td>\n",
       "      <td>(80, 90]</td>\n",
       "      <td>353</td>\n",
       "    </tr>\n",
       "  </tbody>\n",
       "</table>\n",
       "</div>"
      ],
      "text/plain": [
       "            Patient_ID  Age  Gender        Diagnosis  Has_Insurance  Postcode  \\\n",
       "Visit_Date                                                                      \n",
       "2021-10-30      100001   59    Male         Diabetes           True     10003   \n",
       "2020-12-03      100002   14  Female         Diabetes          False     22005   \n",
       "2024-06-09      100003   86    Male  Viral Infection           True     10325   \n",
       "\n",
       "            Total_Cost  Registration_Minutes  Nursing_Minutes  \\\n",
       "Visit_Date                                                      \n",
       "2021-10-30         570                    90               79   \n",
       "2020-12-03        1845                    77               96   \n",
       "2024-06-09        1965                    71               58   \n",
       "\n",
       "            Laboratory_Minutes  Consultation_Minutes  Pharmacy_Minutes  \\\n",
       "Visit_Date                                                               \n",
       "2021-10-30                 100                    15                32   \n",
       "2020-12-03                  25                    62                 7   \n",
       "2024-06-09                 119                    63                42   \n",
       "\n",
       "           Age_Range  Total_Wait_Time_Minutes  \n",
       "Visit_Date                                     \n",
       "2021-10-30  (50, 60]                      316  \n",
       "2020-12-03  (10, 20]                      267  \n",
       "2024-06-09  (80, 90]                      353  "
      ]
     },
     "execution_count": 184,
     "metadata": {},
     "output_type": "execute_result"
    }
   ],
   "source": [
    "oupatient_df_cleaned['Total_Wait_Time_Minutes']=oupatient_df_cleaned['Registration_Minutes']+oupatient_df_cleaned['Nursing_Minutes']+oupatient_df_cleaned['Laboratory_Minutes']+oupatient_df_cleaned['Consultation_Minutes']+oupatient_df_cleaned['Pharmacy_Minutes']\n",
    "oupatient_df_cleaned.head(3)"
   ]
  },
  {
   "cell_type": "code",
   "execution_count": 185,
   "metadata": {},
   "outputs": [
    {
     "data": {
      "text/html": [
       "<div>\n",
       "<style scoped>\n",
       "    .dataframe tbody tr th:only-of-type {\n",
       "        vertical-align: middle;\n",
       "    }\n",
       "\n",
       "    .dataframe tbody tr th {\n",
       "        vertical-align: top;\n",
       "    }\n",
       "\n",
       "    .dataframe thead th {\n",
       "        text-align: right;\n",
       "    }\n",
       "</style>\n",
       "<table border=\"1\" class=\"dataframe\">\n",
       "  <thead>\n",
       "    <tr style=\"text-align: right;\">\n",
       "      <th></th>\n",
       "      <th>Patient_ID</th>\n",
       "      <th>Age</th>\n",
       "      <th>Gender</th>\n",
       "      <th>Diagnosis</th>\n",
       "      <th>Has_Insurance</th>\n",
       "      <th>Postcode</th>\n",
       "      <th>Total_Cost</th>\n",
       "      <th>Registration_Minutes</th>\n",
       "      <th>Nursing_Minutes</th>\n",
       "      <th>Laboratory_Minutes</th>\n",
       "      <th>Consultation_Minutes</th>\n",
       "      <th>Pharmacy_Minutes</th>\n",
       "      <th>Age_Range</th>\n",
       "      <th>Total_Wait_Time_Minutes</th>\n",
       "      <th>Total_Wait_Time_Hours</th>\n",
       "    </tr>\n",
       "    <tr>\n",
       "      <th>Visit_Date</th>\n",
       "      <th></th>\n",
       "      <th></th>\n",
       "      <th></th>\n",
       "      <th></th>\n",
       "      <th></th>\n",
       "      <th></th>\n",
       "      <th></th>\n",
       "      <th></th>\n",
       "      <th></th>\n",
       "      <th></th>\n",
       "      <th></th>\n",
       "      <th></th>\n",
       "      <th></th>\n",
       "      <th></th>\n",
       "      <th></th>\n",
       "    </tr>\n",
       "  </thead>\n",
       "  <tbody>\n",
       "    <tr>\n",
       "      <th>2021-10-30</th>\n",
       "      <td>100001</td>\n",
       "      <td>59</td>\n",
       "      <td>Male</td>\n",
       "      <td>Diabetes</td>\n",
       "      <td>True</td>\n",
       "      <td>10003</td>\n",
       "      <td>570</td>\n",
       "      <td>90</td>\n",
       "      <td>79</td>\n",
       "      <td>100</td>\n",
       "      <td>15</td>\n",
       "      <td>32</td>\n",
       "      <td>(50, 60]</td>\n",
       "      <td>316</td>\n",
       "      <td>5.266667</td>\n",
       "    </tr>\n",
       "    <tr>\n",
       "      <th>2020-12-03</th>\n",
       "      <td>100002</td>\n",
       "      <td>14</td>\n",
       "      <td>Female</td>\n",
       "      <td>Diabetes</td>\n",
       "      <td>False</td>\n",
       "      <td>22005</td>\n",
       "      <td>1845</td>\n",
       "      <td>77</td>\n",
       "      <td>96</td>\n",
       "      <td>25</td>\n",
       "      <td>62</td>\n",
       "      <td>7</td>\n",
       "      <td>(10, 20]</td>\n",
       "      <td>267</td>\n",
       "      <td>4.450000</td>\n",
       "    </tr>\n",
       "  </tbody>\n",
       "</table>\n",
       "</div>"
      ],
      "text/plain": [
       "            Patient_ID  Age  Gender Diagnosis  Has_Insurance  Postcode  \\\n",
       "Visit_Date                                                               \n",
       "2021-10-30      100001   59    Male  Diabetes           True     10003   \n",
       "2020-12-03      100002   14  Female  Diabetes          False     22005   \n",
       "\n",
       "            Total_Cost  Registration_Minutes  Nursing_Minutes  \\\n",
       "Visit_Date                                                      \n",
       "2021-10-30         570                    90               79   \n",
       "2020-12-03        1845                    77               96   \n",
       "\n",
       "            Laboratory_Minutes  Consultation_Minutes  Pharmacy_Minutes  \\\n",
       "Visit_Date                                                               \n",
       "2021-10-30                 100                    15                32   \n",
       "2020-12-03                  25                    62                 7   \n",
       "\n",
       "           Age_Range  Total_Wait_Time_Minutes  Total_Wait_Time_Hours  \n",
       "Visit_Date                                                            \n",
       "2021-10-30  (50, 60]                      316               5.266667  \n",
       "2020-12-03  (10, 20]                      267               4.450000  "
      ]
     },
     "execution_count": 185,
     "metadata": {},
     "output_type": "execute_result"
    }
   ],
   "source": [
    "oupatient_df_cleaned['Total_Wait_Time_Hours']=oupatient_df_cleaned['Total_Wait_Time_Minutes']/60\n",
    "oupatient_df_cleaned.head(2)"
   ]
  },
  {
   "cell_type": "code",
   "execution_count": 186,
   "metadata": {},
   "outputs": [
    {
     "name": "stdout",
     "output_type": "stream",
     "text": [
      "Average total wait time in Hours is:-  4.326074866666666\n"
     ]
    }
   ],
   "source": [
    "#finding average total wait time in hours\n",
    "avg_total_wait_time_in_hours=oupatient_df_cleaned['Total_Wait_Time_Hours'].mean()\n",
    "print(\"Average total wait time in Hours is:- \",avg_total_wait_time_in_hours)"
   ]
  },
  {
   "cell_type": "code",
   "execution_count": 187,
   "metadata": {},
   "outputs": [
    {
     "data": {
      "text/plain": [
       "Registration_Minutes    65.029518\n",
       "Nursing_Minutes         66.496758\n",
       "Laboratory_Minutes      66.041687\n",
       "Consultation_Minutes    37.499534\n",
       "Pharmacy_Minutes        24.496995\n",
       "dtype: float64"
      ]
     },
     "execution_count": 187,
     "metadata": {},
     "output_type": "execute_result"
    }
   ],
   "source": [
    "mean_waiting_time_per_department=oupatient_df_cleaned[['Registration_Minutes','Nursing_Minutes','Laboratory_Minutes','Consultation_Minutes','Pharmacy_Minutes']].mean()\n",
    "mean_waiting_time_per_department"
   ]
  },
  {
   "cell_type": "markdown",
   "metadata": {},
   "source": [
    "The average waiting time of Nursing department is the highest at 66.496758 among all the departments"
   ]
  },
  {
   "cell_type": "code",
   "execution_count": 188,
   "metadata": {},
   "outputs": [],
   "source": [
    "def department_wait_tim_statistics (df,department_name):\n",
    "    if department_name not in df.columns:\n",
    "        output= print(\"Department \",department_name, \" not found in dataframe\")\n",
    "    else:\n",
    "        wait_time_minutes=df[department_name]\n",
    "    \n",
    "        min_wait_time_minutes=wait_time_minutes.min()\n",
    "        max_wait_time_minutes=wait_time_minutes.max()\n",
    "        mean_wait_time_minutes=wait_time_minutes.mean()\n",
    "        median_wait_time_minutes=wait_time_minutes.median()\n",
    "        standar_deviation=wait_time_minutes.std()\n",
    "    \n",
    "        output= print('For the department ',department_name,', wait time range from ',min_wait_time_minutes, 'minutes to ',max_wait_time_minutes,' minutes' \n",
    "            '\\nThe average wait time is ',mean_wait_time_minutes, 'minutes and the median waiting time is ',median_wait_time_minutes, 'minutes'\n",
    "            '\\nThe standard deviation is ',standar_deviation, 'minutes')\n",
    "    return output"
   ]
  },
  {
   "cell_type": "code",
   "execution_count": 189,
   "metadata": {},
   "outputs": [
    {
     "name": "stdout",
     "output_type": "stream",
     "text": [
      "For the department  Nursing_Minutes , wait time range from  5 minutes to  128  minutes\n",
      "The average wait time is  66.496758 minutes and the median waiting time is  67.0 minutes\n",
      "The standard deviation is  35.77996030873765 minutes\n"
     ]
    }
   ],
   "source": [
    "department_wait_tim_statistics(oupatient_df_cleaned,'Nursing_Minutes')"
   ]
  },
  {
   "cell_type": "code",
   "execution_count": 190,
   "metadata": {},
   "outputs": [
    {
     "name": "stdout",
     "output_type": "stream",
     "text": [
      "For the department  Registration_Minutes , wait time range from  7 minutes to  123  minutes\n",
      "The average wait time is  65.029518 minutes and the median waiting time is  65.0 minutes\n",
      "The standard deviation is  33.76286988126627 minutes\n",
      "\n",
      "\n",
      "For the department  Laboratory_Minutes , wait time range from  12 minutes to  120  minutes\n",
      "The average wait time is  66.041687 minutes and the median waiting time is  66.0 minutes\n",
      "The standard deviation is  31.457539966916386 minutes\n",
      "\n",
      "\n",
      "For the department  Consultation_Minutes , wait time range from  10 minutes to  65  minutes\n",
      "The average wait time is  37.499534 minutes and the median waiting time is  38.0 minutes\n",
      "The standard deviation is  16.17564519375842 minutes\n",
      "\n",
      "\n",
      "For the department  Pharmacy_Minutes , wait time range from  4 minutes to  45  minutes\n",
      "The average wait time is  24.496995 minutes and the median waiting time is  24.0 minutes\n",
      "The standard deviation is  12.117665196213482 minutes\n"
     ]
    }
   ],
   "source": [
    "department_wait_tim_statistics(oupatient_df_cleaned,'Registration_Minutes')\n",
    "print(\"\\n\")\n",
    "\n",
    "department_wait_tim_statistics(oupatient_df_cleaned,'Laboratory_Minutes')\n",
    "print(\"\\n\")\n",
    "\n",
    "department_wait_tim_statistics(oupatient_df_cleaned,'Consultation_Minutes')\n",
    "print(\"\\n\")\n",
    "\n",
    "department_wait_tim_statistics(oupatient_df_cleaned,'Pharmacy_Minutes')"
   ]
  },
  {
   "cell_type": "markdown",
   "metadata": {},
   "source": [
    "# Correlation Analysis"
   ]
  },
  {
   "cell_type": "code",
   "execution_count": 191,
   "metadata": {},
   "outputs": [],
   "source": [
    "#Drop Total_wait_times_minutes, age_range and total_wait_time_hours columns from the dataset\n",
    "oupatient_df_cleaned=oupatient_df_cleaned.drop(['Total_Wait_Time_Hours','Total_Wait_Time_Minutes','Age_Range'],axis=1)"
   ]
  },
  {
   "cell_type": "code",
   "execution_count": 192,
   "metadata": {},
   "outputs": [
    {
     "name": "stderr",
     "output_type": "stream",
     "text": [
      "<ipython-input-192-d05d24b89e8b>:1: FutureWarning: The default value of numeric_only in DataFrame.corr is deprecated. In a future version, it will default to False. Select only valid columns or specify the value of numeric_only to silence this warning.\n",
      "  corelation_matrix=oupatient_df_cleaned.corr()\n"
     ]
    }
   ],
   "source": [
    "corelation_matrix=oupatient_df_cleaned.corr()"
   ]
  },
  {
   "cell_type": "code",
   "execution_count": 193,
   "metadata": {},
   "outputs": [
    {
     "data": {
      "image/png": "[encoded data removed]",
      "text/plain": [
       "<Figure size 1440x720 with 2 Axes>"
      ]
     },
     "metadata": {
      "needs_background": "light"
     },
     "output_type": "display_data"
    }
   ],
   "source": [
    "plt.figure(figsize=(20,10))\n",
    "sns.heatmap(corelation_matrix, annot=True,linewidth=0.1)\n",
    "plt.title(\"Corelation Heatmap for the hospital visit data\")\n",
    "plt.show()"
   ]
  },
  {
   "cell_type": "markdown",
   "metadata": {},
   "source": [
    "The total_cost and Has_insurance features are inversely related."
   ]
  },
  {
   "cell_type": "markdown",
   "metadata": {},
   "source": [
    "# Cost and Insurance Analysis"
   ]
  },
  {
   "cell_type": "code",
   "execution_count": 194,
   "metadata": {},
   "outputs": [
    {
     "data": {
      "text/plain": [
       "Gender\n",
       "Female    1524.512355\n",
       "Male      1521.138946\n",
       "Name: Total_Cost, dtype: float64"
      ]
     },
     "execution_count": 194,
     "metadata": {},
     "output_type": "execute_result"
    }
   ],
   "source": [
    "average_cost_by_gender=oupatient_df_cleaned.groupby('Gender')['Total_Cost'].mean()\n",
    "average_cost_by_gender"
   ]
  },
  {
   "cell_type": "markdown",
   "metadata": {},
   "source": [
    "The average cost for both male and female gender is almost same"
   ]
  },
  {
   "cell_type": "code",
   "execution_count": 195,
   "metadata": {},
   "outputs": [
    {
     "data": {
      "image/png": "[encoded data removed]",
      "text/plain": [
       "<Figure size 720x360 with 1 Axes>"
      ]
     },
     "metadata": {
      "needs_background": "light"
     },
     "output_type": "display_data"
    }
   ],
   "source": [
    "plt.figure(figsize=(10,5))\n",
    "plt.hist(oupatient_df_cleaned['Total_Cost'],bins=50,edgecolor='Black')\n",
    "plt.title('Total-Cost Distribution')\n",
    "plt.xlabel('Total Cost')\n",
    "plt.ylabel('Frequency')\n",
    "plt.show()"
   ]
  },
  {
   "cell_type": "markdown",
   "metadata": {},
   "source": [
    "The above histogram shows that most of patients incur the cost between 0 to 3000 range"
   ]
  },
  {
   "cell_type": "code",
   "execution_count": 196,
   "metadata": {},
   "outputs": [
    {
     "data": {
      "text/plain": [
       "Has_Insurance\n",
       "False    2017.801846\n",
       "True     1028.370806\n",
       "Name: Total_Cost, dtype: float64"
      ]
     },
     "execution_count": 196,
     "metadata": {},
     "output_type": "execute_result"
    }
   ],
   "source": [
    "average_cost_by_insurance=oupatient_df_cleaned.groupby('Has_Insurance')['Total_Cost'].mean()\n",
    "average_cost_by_insurance"
   ]
  },
  {
   "cell_type": "markdown",
   "metadata": {},
   "source": [
    "The average cost for patients that don't have insurance is almost twice as that of patients that have insurance."
   ]
  },
  {
   "cell_type": "code",
   "execution_count": 197,
   "metadata": {},
   "outputs": [
    {
     "data": {
      "image/png": "[encoded data removed]",
      "text/plain": [
       "<Figure size 720x360 with 1 Axes>"
      ]
     },
     "metadata": {
      "needs_background": "light"
     },
     "output_type": "display_data"
    }
   ],
   "source": [
    "annual_total_cost=oupatient_df_cleaned['Total_Cost'].resample('Y').sum()\n",
    "plt.figure(figsize=(10,5))\n",
    "plt.plot(annual_total_cost.index, annual_total_cost.values)\n",
    "plt.title('Annual Total cost over time')\n",
    "plt.xlabel('Year')\n",
    "plt.ylabel('Total_Cost')\n",
    "plt.show()"
   ]
  },
  {
   "cell_type": "code",
   "execution_count": 198,
   "metadata": {},
   "outputs": [
    {
     "data": {
      "text/html": [
       "<div>\n",
       "<style scoped>\n",
       "    .dataframe tbody tr th:only-of-type {\n",
       "        vertical-align: middle;\n",
       "    }\n",
       "\n",
       "    .dataframe tbody tr th {\n",
       "        vertical-align: top;\n",
       "    }\n",
       "\n",
       "    .dataframe thead th {\n",
       "        text-align: right;\n",
       "    }\n",
       "</style>\n",
       "<table border=\"1\" class=\"dataframe\">\n",
       "  <thead>\n",
       "    <tr style=\"text-align: right;\">\n",
       "      <th></th>\n",
       "      <th>Patient_ID</th>\n",
       "      <th>Age</th>\n",
       "      <th>Gender</th>\n",
       "      <th>Diagnosis</th>\n",
       "      <th>Has_Insurance</th>\n",
       "      <th>Postcode</th>\n",
       "      <th>Total_Cost</th>\n",
       "      <th>Registration_Minutes</th>\n",
       "      <th>Nursing_Minutes</th>\n",
       "      <th>Laboratory_Minutes</th>\n",
       "      <th>Consultation_Minutes</th>\n",
       "      <th>Pharmacy_Minutes</th>\n",
       "    </tr>\n",
       "    <tr>\n",
       "      <th>Visit_Date</th>\n",
       "      <th></th>\n",
       "      <th></th>\n",
       "      <th></th>\n",
       "      <th></th>\n",
       "      <th></th>\n",
       "      <th></th>\n",
       "      <th></th>\n",
       "      <th></th>\n",
       "      <th></th>\n",
       "      <th></th>\n",
       "      <th></th>\n",
       "      <th></th>\n",
       "    </tr>\n",
       "  </thead>\n",
       "  <tbody>\n",
       "    <tr>\n",
       "      <th>2021-10-30</th>\n",
       "      <td>100001</td>\n",
       "      <td>59</td>\n",
       "      <td>Male</td>\n",
       "      <td>Diabetes</td>\n",
       "      <td>True</td>\n",
       "      <td>10003</td>\n",
       "      <td>570</td>\n",
       "      <td>90</td>\n",
       "      <td>79</td>\n",
       "      <td>100</td>\n",
       "      <td>15</td>\n",
       "      <td>32</td>\n",
       "    </tr>\n",
       "    <tr>\n",
       "      <th>2020-12-03</th>\n",
       "      <td>100002</td>\n",
       "      <td>14</td>\n",
       "      <td>Female</td>\n",
       "      <td>Diabetes</td>\n",
       "      <td>False</td>\n",
       "      <td>22005</td>\n",
       "      <td>1845</td>\n",
       "      <td>77</td>\n",
       "      <td>96</td>\n",
       "      <td>25</td>\n",
       "      <td>62</td>\n",
       "      <td>7</td>\n",
       "    </tr>\n",
       "  </tbody>\n",
       "</table>\n",
       "</div>"
      ],
      "text/plain": [
       "            Patient_ID  Age  Gender Diagnosis  Has_Insurance  Postcode  \\\n",
       "Visit_Date                                                               \n",
       "2021-10-30      100001   59    Male  Diabetes           True     10003   \n",
       "2020-12-03      100002   14  Female  Diabetes          False     22005   \n",
       "\n",
       "            Total_Cost  Registration_Minutes  Nursing_Minutes  \\\n",
       "Visit_Date                                                      \n",
       "2021-10-30         570                    90               79   \n",
       "2020-12-03        1845                    77               96   \n",
       "\n",
       "            Laboratory_Minutes  Consultation_Minutes  Pharmacy_Minutes  \n",
       "Visit_Date                                                              \n",
       "2021-10-30                 100                    15                32  \n",
       "2020-12-03                  25                    62                 7  "
      ]
     },
     "execution_count": 198,
     "metadata": {},
     "output_type": "execute_result"
    }
   ],
   "source": [
    "oupatient_df_cleaned.head(2)"
   ]
  },
  {
   "cell_type": "code",
   "execution_count": 199,
   "metadata": {},
   "outputs": [],
   "source": [
    "insurance_true_total_cost=oupatient_df_cleaned[oupatient_df_cleaned['Has_Insurance']==True]['Total_Cost'].resample(\"Y\").sum()\n",
    "insurance_false_total_cost=oupatient_df_cleaned[oupatient_df_cleaned['Has_Insurance']==False]['Total_Cost'].resample(\"Y\").sum()"
   ]
  },
  {
   "cell_type": "code",
   "execution_count": 200,
   "metadata": {},
   "outputs": [
    {
     "data": {
      "image/png": "[encoded data removed]",
      "text/plain": [
       "<Figure size 720x360 with 1 Axes>"
      ]
     },
     "metadata": {
      "needs_background": "light"
     },
     "output_type": "display_data"
    }
   ],
   "source": [
    "plt.figure(figsize=(10,5))\n",
    "plt.scatter(insurance_true_total_cost.index, insurance_true_total_cost.values,label='Insurance:True')\n",
    "plt.scatter(insurance_false_total_cost.index, insurance_false_total_cost.values,label='Insurance:False')\n",
    "plt.title('Annual Total cost by Insurance')\n",
    "plt.xlabel('Year')\n",
    "plt.ylabel('Total_Cost')\n",
    "plt.legend()\n",
    "plt.grid()\n",
    "plt.show()"
   ]
  },
  {
   "cell_type": "markdown",
   "metadata": {},
   "source": [
    "The average total_cost remains almost constant over the years for both the groups of patients (i.e. patients that has insurance and patients that don't have insurance)"
   ]
  },
  {
   "cell_type": "code",
   "execution_count": null,
   "metadata": {},
   "outputs": [],
   "source": []
  }
 ],
 "metadata": {
  "kernelspec": {
   "display_name": "Python 3",
   "language": "python",
   "name": "python3"
  },
  "language_info": {
   "codemirror_mode": {
    "name": "ipython",
    "version": 3
   },
   "file_extension": ".py",
   "mimetype": "text/x-python",
   "name": "python",
   "nbconvert_exporter": "python",
   "pygments_lexer": "ipython3",
   "version": "3.8.5"
  }
 },
 "nbformat": 4,
 "nbformat_minor": 4
}
